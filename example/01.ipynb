{
 "cells": [
  {
   "cell_type": "code",
   "execution_count": 1,
   "metadata": {},
   "outputs": [
    {
     "name": "stdout",
     "output_type": "stream",
     "text": [
      "네, 딥러닝은 인공 지능의 한 분야로, 인간의 뇌와 비슷한 방식으로 데이터를 학습하고 패턴을 인식하는 능력을 가진 알고리즘을 말해요. 이 기술은 대규모 데이터셋을 사용해 컴퓨터가 스스로 학습하고 개선할 수 있게 해주며, 이는 이미지 인식, 자연어 처리, 음성 인식 등 다양한 분야에서 혁신적인 성과를 이루고 있어요.\n",
      "\n",
      "딥러닝 모델들은 여러 층으로 구성되어 있어, 각 층은 데이터의 특징을 추출하고 더 복잡한 패턴을 학습하는 데 사용돼요. 이 과정에서 '데이터'는 매우 중요하며, 좋은 학습 결과를 위해서는 대규모의 다양한 데이터셋이 필요해요.\n",
      "\n",
      "딥러닝 기술은 현재 많은 분야에서 혁신적인 발전을 이루고 있으며, 특히 인공지능 분야에서는 매우 중요한 역할을 하고 있어요. 더 궁금한 점이 있으면 언제든지 물어봐 주세요!"
     ]
    }
   ],
   "source": [
    "from langserve import RemoteRunnable\n",
    "\n",
    "# ngrok remote 주소 설정\n",
    "\n",
    "chain = RemoteRunnable(\"http://0.0.0.0:8000/prompt/\")\n",
    "\n",
    "for token in chain.stream({\"topic\": \"딥러닝에 대해서 알려줘\"}):\n",
    "    print(token, end=\"\")"
   ]
  }
 ],
 "metadata": {
  "kernelspec": {
   "display_name": "langserve-ollama-7Lt9Jjbb-py3.10",
   "language": "python",
   "name": "python3"
  },
  "language_info": {
   "codemirror_mode": {
    "name": "ipython",
    "version": 3
   },
   "file_extension": ".py",
   "mimetype": "text/x-python",
   "name": "python",
   "nbconvert_exporter": "python",
   "pygments_lexer": "ipython3",
   "version": "3.10.12"
  }
 },
 "nbformat": 4,
 "nbformat_minor": 2
}
